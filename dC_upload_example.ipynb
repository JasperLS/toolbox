{
  "nbformat": 4,
  "nbformat_minor": 0,
  "metadata": {
    "colab": {
      "provenance": [],
      "include_colab_link": true
    },
    "kernelspec": {
      "name": "python3",
      "display_name": "Python 3"
    },
    "language_info": {
      "name": "python"
    }
  },
  "cells": [
    {
      "cell_type": "markdown",
      "metadata": {
        "id": "view-in-github",
        "colab_type": "text"
      },
      "source": [
        "<a href=\"https://colab.research.google.com/github/JasperLS/toolbox/blob/main/dC_upload_example.ipynb\" target=\"_parent\"><img src=\"https://colab.research.google.com/assets/colab-badge.svg\" alt=\"Open In Colab\"/></a>"
      ]
    },
    {
      "cell_type": "code",
      "source": [
        "API_KEY = \"<API_KEY>\"\n",
        "WORKSPACE = \"<WORKSPACE_NAME>\""
      ],
      "metadata": {
        "id": "aCVp5VHUCgLz"
      },
      "execution_count": null,
      "outputs": []
    },
    {
      "cell_type": "markdown",
      "source": [
        "\n",
        "# **Prerequisites**\n",
        "\n",
        "First, let's add your deepset Cloud API key and choose the workspace where you want to upload the files.\n"
      ],
      "metadata": {
        "id": "uVuYRm3dbRx9"
      }
    },
    {
      "cell_type": "markdown",
      "source": [
        "# **Install SDK**\n",
        "\n",
        "Now, let's install the SDK package."
      ],
      "metadata": {
        "id": "e7hNvtUhAEP2"
      }
    },
    {
      "cell_type": "code",
      "execution_count": null,
      "metadata": {
        "id": "mfdk1zQwrZoZ"
      },
      "outputs": [],
      "source": [
        "pip install deepset-cloud-sdk"
      ]
    },
    {
      "cell_type": "markdown",
      "source": [
        "The following dependency is required for Colab only:"
      ],
      "metadata": {
        "id": "iupMGkjzvFLF"
      }
    },
    {
      "cell_type": "code",
      "source": [
        "pip install nest_asyncio"
      ],
      "metadata": {
        "id": "vKrd9yjWu35Z"
      },
      "execution_count": null,
      "outputs": []
    },
    {
      "cell_type": "markdown",
      "source": [
        "Let's make sure we have all the necessary imports ready:"
      ],
      "metadata": {
        "id": "dWkWv7exbhly"
      }
    },
    {
      "cell_type": "code",
      "source": [
        "from pathlib import Path\n",
        "import os, json\n",
        "from deepset_cloud_sdk.workflows.async_client.files import upload_texts, DeepsetCloudFile, upload\n",
        "from deepset_cloud_sdk._api.files import datetime"
      ],
      "metadata": {
        "id": "G9c33Gyjrqag"
      },
      "execution_count": null,
      "outputs": []
    },
    {
      "cell_type": "markdown",
      "source": [
        "# **Create example files**\n",
        "\n",
        "This creates some example TXT files with metadata and simple text as contents. deepset Cloud SDK doesn't need any special folder structure."
      ],
      "metadata": {
        "id": "oCgkwviXArAy"
      }
    },
    {
      "cell_type": "code",
      "source": [
        "def create_files_and_meta():\n",
        "  files = []\n",
        "  for i in range(100):\n",
        "      files.append(DeepsetCloudFile(\n",
        "          name=f\"file_{i}\",\n",
        "          text=f\"this is file {i}\",\n",
        "          meta= {\n",
        "              \"url\": f\"https://example.com/{i}\",\n",
        "              \"timestamp\": datetime.datetime.timestamp(datetime.datetime.now())\n",
        "          }\n",
        "      ))\n",
        "  return files"
      ],
      "metadata": {
        "id": "J2JpIf8DAqg4"
      },
      "execution_count": null,
      "outputs": []
    },
    {
      "cell_type": "code",
      "source": [
        "# see example files:\n",
        "\n",
        "create_files_and_meta()[:2]"
      ],
      "metadata": {
        "id": "CbfzrFgG8l5I"
      },
      "execution_count": null,
      "outputs": []
    },
    {
      "cell_type": "code",
      "source": [
        "# only required for uploading from storage\n",
        "os.mkdir(\"Files\")"
      ],
      "metadata": {
        "id": "TG63bN8KGLL6"
      },
      "execution_count": null,
      "outputs": []
    },
    {
      "cell_type": "code",
      "source": [
        "# only required for uploading from storage\n",
        "for i in create_files_and_meta():\n",
        "  with open(\"Files/\"+i.name, 'w') as f:\n",
        "    f.write(i.text)\n",
        "  with open(\"Files/\"+i.name+\".meta.json\", 'w') as f:\n",
        "    f.write(json.dumps(i.meta))"
      ],
      "metadata": {
        "id": "HbYviuHiGKID"
      },
      "execution_count": null,
      "outputs": []
    },
    {
      "cell_type": "markdown",
      "source": [
        "# **Upload files**\n",
        "\n",
        "This section shows you different options for uploading your files: from memory, using generators, or from storage."
      ],
      "metadata": {
        "id": "pUxZJNG9cDLB"
      }
    },
    {
      "cell_type": "markdown",
      "source": [
        "## **Upload from memory**"
      ],
      "metadata": {
        "id": "Y7G0RRW00wZR"
      }
    },
    {
      "cell_type": "code",
      "source": [
        "files = create_files_and_meta()\n",
        "await upload_texts(\n",
        "    files=files,\n",
        "    blocking=True,  # optional, by default True\n",
        "    timeout_s=300,  # optional, by default 300\n",
        "    api_key=API_KEY,\n",
        "    workspace_name=WORKSPACE\n",
        ")"
      ],
      "metadata": {
        "id": "gLYe3xiQtIoH"
      },
      "execution_count": null,
      "outputs": []
    },
    {
      "cell_type": "markdown",
      "source": [
        "## **Upload from memory using generators**\n",
        "\n",
        "If you're using a generator instead of a list, set `blocking` to `False`. This  hides the ingestion status. Note that it takes a few minutes for all the uploaded files to show in deepset Cloud. The more files, the longer it takes.\n",
        "\n",
        "The progress bar for the uploads is also a little inaccurate with respect to time taken for generators. You can disable the output summary by passing `show_progress=False`."
      ],
      "metadata": {
        "id": "MP3B0I5WKqNO"
      }
    },
    {
      "cell_type": "code",
      "source": [
        "import time\n",
        "import random\n",
        "import uuid\n",
        "\n",
        "def generate_files_and_meta():\n",
        "    for i in range (10):\n",
        "      time.sleep(1) # some blocking task\n",
        "      id = uuid.uuid4()\n",
        "      now = datetime.datetime.now()\n",
        "      print(f\"[{now.hour}:{now.minute}:{now.second}]::: generated file {id}.txt\")\n",
        "      yield DeepsetCloudFile(\n",
        "          name=f\"file_{id}.txt\",\n",
        "          text=f\"this is file {id}\",\n",
        "          meta= {\n",
        "              \"url\": f\"https://example.com/{id}\",\n",
        "              \"timestamp\": datetime.datetime.timestamp(datetime.datetime.now())\n",
        "          }\n",
        "      )\n",
        "\n",
        "await upload_texts(\n",
        "    files=generate_files_and_meta(),\n",
        "    blocking=False,  # must set to False for generators\n",
        "    timeout_s=300,  # optional, by default 300\n",
        "    api_key=API_KEY,\n",
        "    workspace_name=WORKSPACE,\n",
        "    show_progress=True,\n",
        ")"
      ],
      "metadata": {
        "id": "vPAktGZxKsbJ"
      },
      "execution_count": null,
      "outputs": []
    },
    {
      "cell_type": "markdown",
      "source": [
        "## **Upload from storage**\n",
        "\n",
        "In this example, you upload files from a physical folder on your computer.\n"
      ],
      "metadata": {
        "id": "pyboeqgg9CWh"
      }
    },
    {
      "cell_type": "code",
      "source": [
        "await upload(\n",
        "    paths=[Path(\"./Files\")],\n",
        "    blocking=True,  # optional, by default True\n",
        "    timeout_s=300,  # optional, by default 300\n",
        "    api_key=API_KEY,\n",
        "    workspace_name=WORKSPACE\n",
        ")"
      ],
      "metadata": {
        "id": "_b-gJBL5-3NH"
      },
      "execution_count": null,
      "outputs": []
    },
    {
      "cell_type": "markdown",
      "source": [
        "\n",
        "# **Show an upload summary**\n",
        "\n",
        "1. Get the session details. The first result of the `list_upload_sessions` function gives you the latest created session. This function returns a generator of all sessions.\n",
        "\n",
        "2. Use the `get_upload_session` function to get a summary of the session. This includes information such as the number of failed files, and the number of files that finished processing."
      ],
      "metadata": {
        "id": "A1sdaef778nK"
      }
    },
    {
      "cell_type": "code",
      "source": [
        "from deepset_cloud_sdk.workflows.async_client.files import get_upload_session, list_upload_sessions\n",
        "\n",
        "sessions = list_upload_sessions(\n",
        "    api_key=API_KEY,\n",
        "    workspace_name=WORKSPACE,\n",
        "    batch_size=100\n",
        ")\n",
        "\n",
        "session = await anext(sessions)\n",
        "print(session)\n",
        "\n",
        "details = await get_upload_session(\n",
        "    session_id=session[-1].session_id,\n",
        "    api_key=API_KEY,\n",
        "    workspace_name=WORKSPACE\n",
        ")\n",
        "details"
      ],
      "metadata": {
        "id": "hgxN4t_F76eN"
      },
      "execution_count": null,
      "outputs": []
    },
    {
      "cell_type": "markdown",
      "source": [
        "## **Get session details**\n",
        "\n",
        "This is not currently implemented in the SDK, but you can directly invoke the API to get details of the status of files uploaded during the session.\n",
        "\n",
        "This endpoint tells you about whether files were successfully processed into deepset Cloud or not."
      ],
      "metadata": {
        "id": "QpIbW_nNA_fT"
      }
    },
    {
      "cell_type": "code",
      "source": [
        "pip install httpx"
      ],
      "metadata": {
        "id": "oXACdQ-NBLRk"
      },
      "execution_count": null,
      "outputs": []
    },
    {
      "cell_type": "code",
      "source": [
        "import httpx\n",
        "import json\n",
        "session_id = str(details.session_id)\n",
        "\n",
        "ingestion_status=\"FINISHED\" # can be FAILED/FINISHED/PENDING\n",
        "limit = 100\n",
        "page_number=1\n",
        "\n",
        "endpoint = f\"https://api.cloud.deepset.ai/api/v1/workspaces/{WORKSPACE}/upload_sessions/{session_id}/files?ingestion_status={ingestion_status}&limit={limit}&page_number={page_number}\"\n",
        "headers = {\n",
        "    \"accept\": \"application/json\",\n",
        "    \"authorization\": f\"Bearer {API_KEY}\"\n",
        "}\n",
        "response = httpx.get(\n",
        "    url=endpoint,\n",
        "    headers=headers,\n",
        "    )\n",
        "\n",
        "json.loads(response.content)"
      ],
      "metadata": {
        "colab": {
          "base_uri": "https://localhost:8080/"
        },
        "id": "u4aMS7mcBQTG",
        "outputId": "90a6ad44-bdb5-4564-8121-0edd508133b9"
      },
      "execution_count": null,
      "outputs": [
        {
          "output_type": "execute_result",
          "data": {
            "text/plain": [
              "{'data': [], 'has_more': False, 'total': 0}"
            ]
          },
          "metadata": {},
          "execution_count": 37
        }
      ]
    }
  ]
}