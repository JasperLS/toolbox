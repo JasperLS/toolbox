{
  "nbformat": 4,
  "nbformat_minor": 0,
  "metadata": {
    "colab": {
      "private_outputs": true,
      "provenance": [],
      "authorship_tag": "ABX9TyNn0LWEKCOAoKmtRXOZTwlA",
      "include_colab_link": true
    },
    "kernelspec": {
      "name": "python3",
      "display_name": "Python 3"
    },
    "language_info": {
      "name": "python"
    }
  },
  "cells": [
    {
      "cell_type": "markdown",
      "metadata": {
        "id": "view-in-github",
        "colab_type": "text"
      },
      "source": [
        "<a href=\"https://colab.research.google.com/github/JasperLS/toolbox/blob/main/vif_calculation.ipynb\" target=\"_parent\"><img src=\"https://colab.research.google.com/assets/colab-badge.svg\" alt=\"Open In Colab\"/></a>"
      ]
    },
    {
      "cell_type": "code",
      "execution_count": null,
      "metadata": {
        "id": "FNlIOmrG8MtU"
      },
      "outputs": [],
      "source": [
        "from sklearn.linear_model import LinearRegression\n",
        "\n",
        "def vif_values(t):\n",
        "    model = LinearRegression()\n",
        "    t = pd.get_dummies(t, drop_first=True )\n",
        "    vif = pd.DataFrame(columns = ['variable','vif'])\n",
        "    \n",
        "    for i in range(t.shape[1]):\n",
        "        sub_iv = list(set(range(t.shape[1]))-set([i]))\n",
        "        X = t.iloc[:,sub_iv]\n",
        "        y = t.iloc[:,i]\n",
        "        model.fit(X, y)\n",
        "        r_squared = model.score(X, y)\n",
        "#         print(round(1/(1-r_squared),3),f'vif value {t.columns[i]}')\n",
        "        vif.loc[i,'variable'] = t.columns[i]\n",
        "        vif.loc[i,'vif'] = 1/(1-r_squared)\n",
        "                              \n",
        "    return vif"
      ]
    }
  ]
}