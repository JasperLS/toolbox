{
 "cells": [
  {
   "cell_type": "code",
   "execution_count": null,
   "metadata": {},
   "outputs": [],
   "source": [
    "i = 2\n",
    "f'{i:02d}' #leading 0s"
   ]
  },
  {
   "cell_type": "code",
   "execution_count": 10,
   "metadata": {},
   "outputs": [],
   "source": [
    "import os, pandas as pd\n",
    "from IPython.core.interactiveshell import InteractiveShell\n",
    "InteractiveShell.ast_node_interactivity = \"all\"#\"last_expr\" #all for debugging better\n",
    "pd.set_option('display.max_columns', 500,'display.max_rows',100,'display.max_colwidth',None)"
   ]
  },
  {
   "cell_type": "code",
   "execution_count": 2,
   "metadata": {},
   "outputs": [],
   "source": [
    "import pandas as pd\n",
    "pd.set_option('display.float_format', lambda x: '%.3f' % x)"
   ]
  },
  {
   "cell_type": "code",
   "execution_count": null,
   "metadata": {},
   "outputs": [],
   "source": [
    "import datetime\n",
    "cur_date =str(datetime.datetime.today().strftime('%Y-%m-%d'))\n",
    "print(cur_date)"
   ]
  },
  {
   "cell_type": "code",
   "execution_count": null,
   "metadata": {},
   "outputs": [],
   "source": [
    "import warnings\n",
    "warnings.filterwarnings(\"ignore\")"
   ]
  },
  {
   "cell_type": "code",
   "execution_count": null,
   "metadata": {},
   "outputs": [],
   "source": [
    "import sys\n",
    "try:     10/0\n",
    "except:  sys.exc_info()[0]"
   ]
  },
  {
   "cell_type": "code",
   "execution_count": null,
   "metadata": {},
   "outputs": [],
   "source": [
    "import os\n",
    "print(os.environ['CONDA_DEFAULT_ENV'])\n",
    "os.path.abspath(os.__file__)"
   ]
  },
  {
   "cell_type": "code",
   "execution_count": null,
   "metadata": {},
   "outputs": [],
   "source": [
    "os.path.getsize('/media/my_drives/DATA1/data/brand_presence/stahl/stahl_1.wav')"
   ]
  },
  {
   "cell_type": "code",
   "execution_count": null,
   "metadata": {},
   "outputs": [],
   "source": [
    "import pandas as pd\n",
    "import pandas.util.testing\n",
    "pd.util.testing.makeDataFrame()"
   ]
  },
  {
   "cell_type": "code",
   "execution_count": 2,
   "metadata": {},
   "outputs": [],
   "source": [
    "import zipfile\n",
    "import os\n",
    "def zip_directory(folder_path, zip_path):\n",
    "    with zipfile.ZipFile(zip_path, mode='w') as zipf:\n",
    "        len_dir_path = len(folder_path)\n",
    "        for root, _, files in os.walk(folder_path):\n",
    "            for file in files:\n",
    "                file_path = os.path.join(root, file)\n",
    "                zipf.write(file_path, file_path[len_dir_path:])\n",
    "                \n",
    "zip_directory('/media/my_drives/DATA1/data/corona/2021-06-29_histories_predictions/', '/media/my_drives/DATA1/data/corona/2021-06-29_histories_predictions.zip')"
   ]
  },
  {
   "cell_type": "code",
   "execution_count": null,
   "metadata": {},
   "outputs": [],
   "source": [
    "def four_digits_min(x):\n",
    "    years = re.findall(r\"\\D(\\d{4})\\D\", \" \"+x+\" \")\n",
    "    years = [int(year) for year in years if ((int(year)>1900) and (int(year)<2022))]\n",
    "    if len(years)>0:\n",
    "        return min(years)\n",
    "    else:\n",
    "        return False"
   ]
  },
  {
   "cell_type": "code",
   "execution_count": null,
   "metadata": {},
   "outputs": [],
   "source": [
    "import shutil\n",
    "shutil.rmtree('/media/my_drives/DATA1/jasper/corona/bert-base-uncased_trained_acc:0.704_loss:1.808')"
   ]
  },
  {
   "cell_type": "code",
   "execution_count": null,
   "metadata": {},
   "outputs": [],
   "source": [
    "%whos"
   ]
  },
  {
   "cell_type": "code",
   "execution_count": 8,
   "metadata": {},
   "outputs": [],
   "source": [
    "import shutil, os\n",
    "FROM,TO = \"/Users/jasper/Library/CloudStorage/OneDrive-Personal/deepset/programming/test-task/pdfs/\", \"/Users/jasper/Library/CloudStorage/OneDrive-Personal/deepset/programming/test-task/pdf_subfolder/\"\n",
    "for i in os.listdir(FROM):\n",
    "    if '(1)' not in i:\n",
    "        shutil.copy(FROM+i, TO+i)"
   ]
  },
  {
   "cell_type": "code",
   "execution_count": null,
   "metadata": {},
   "outputs": [],
   "source": [
    "f = open(\".env\", \"a\")\n",
    "f.write('DEEPSET_CLOUD_API_KEY = xx\\n')\n",
    "f.write('OPENAI_KEY = xx\\n')\n",
    "f.write('DEEPSET_CLOUD_API_ENDPOINT = https://api.cloud.deepset.ai/api/v1')\n",
    "f.close()\n",
    "\n",
    "f = open(\".env\", \"r\")\n",
    "print(f.read())\n",
    "f.close()"
   ]
  }
 ],
 "metadata": {
  "kernelspec": {
   "display_name": "Python 3 (ipykernel)",
   "language": "python",
   "name": "python3"
  },
  "language_info": {
   "codemirror_mode": {
    "name": "ipython",
    "version": 3
   },
   "file_extension": ".py",
   "mimetype": "text/x-python",
   "name": "python",
   "nbconvert_exporter": "python",
   "pygments_lexer": "ipython3",
   "version": "3.9.15"
  },
  "vscode": {
   "interpreter": {
    "hash": "72c1c80e188affe7ebfac595d59bc8236233247e50354dcab3d40c1ba7b6d21b"
   }
  }
 },
 "nbformat": 4,
 "nbformat_minor": 4
}
