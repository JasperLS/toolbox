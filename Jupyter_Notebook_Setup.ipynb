{
  "nbformat": 4,
  "nbformat_minor": 0,
  "metadata": {
    "colab": {
      "private_outputs": true,
      "provenance": [],
      "authorship_tag": "ABX9TyPhl1DmeLIqzNwHQ83Avbqm",
      "include_colab_link": true
    },
    "kernelspec": {
      "name": "python3",
      "display_name": "Python 3"
    },
    "language_info": {
      "name": "python"
    }
  },
  "cells": [
    {
      "cell_type": "markdown",
      "metadata": {
        "id": "view-in-github",
        "colab_type": "text"
      },
      "source": [
        "<a href=\"https://colab.research.google.com/github/JasperLS/toolbox/blob/main/Jupyter_Notebook_Setup.ipynb\" target=\"_parent\"><img src=\"https://colab.research.google.com/assets/colab-badge.svg\" alt=\"Open In Colab\"/></a>"
      ]
    },
    {
      "cell_type": "code",
      "execution_count": null,
      "metadata": {
        "id": "EsyMyIHfl_ou"
      },
      "outputs": [],
      "source": [
        "import os, sys\n",
        "import pandas as pd, numpy as np, matplotlib.pyplot as plt\n",
        "from IPython.core.interactiveshell import InteractiveShell\n",
        "InteractiveShell.ast_node_interactivity = \"all\"#\"last_expr\" #all for debugging better\n",
        "pd.set_option('display.max_columns', 500,'display.max_rows',200,'display.max_colwidth',500)"
      ]
    },
    {
      "cell_type": "code",
      "source": [],
      "metadata": {
        "id": "kg0-_iz3mEvY"
      },
      "execution_count": null,
      "outputs": []
    }
  ]
}