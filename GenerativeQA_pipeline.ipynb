{
  "cells": [
    {
      "cell_type": "markdown",
      "metadata": {
        "id": "view-in-github",
        "colab_type": "text"
      },
      "source": [
        "<a href=\"https://colab.research.google.com/github/JasperLS/toolbox/blob/main/GenerativeQA_pipeline.ipynb\" target=\"_parent\"><img src=\"https://colab.research.google.com/assets/colab-badge.svg\" alt=\"Open In Colab\"/></a>"
      ]
    },
    {
      "cell_type": "markdown",
      "id": "316d49eb-906b-489e-8539-205908111216",
      "metadata": {
        "id": "316d49eb-906b-489e-8539-205908111216"
      },
      "source": [
        "# Notebook to run Generative QA and other tasks"
      ]
    },
    {
      "cell_type": "code",
      "execution_count": 1,
      "id": "053eff70-356e-4fb5-81e6-2f66b2956aab",
      "metadata": {
        "scrolled": true,
        "tags": [],
        "id": "053eff70-356e-4fb5-81e6-2f66b2956aab"
      },
      "outputs": [],
      "source": [
        "%%capture\n",
        "! pip install --upgrade pip\n",
        "! pip install --upgrade farm-haystack\n",
        "! pip install --upgrade transformers"
      ]
    },
    {
      "cell_type": "code",
      "execution_count": 2,
      "id": "65a670a2-1a06-409d-abac-429821aa2d2a",
      "metadata": {
        "collapsed": true,
        "jupyter": {
          "outputs_hidden": true
        },
        "tags": [],
        "id": "65a670a2-1a06-409d-abac-429821aa2d2a"
      },
      "outputs": [],
      "source": [
        "import os\n",
        "from haystack import Pipeline\n",
        "from haystack.document_stores import DeepsetCloudDocumentStore\n",
        "from haystack.nodes import Seq2SeqGenerator, EmbeddingRetriever, PromptNode\n",
        "from haystack.nodes._json_schema import load_schema\n",
        "schema = load_schema()"
      ]
    },
    {
      "cell_type": "markdown",
      "id": "42db1713-4753-4ddb-b888-813793517fa9",
      "metadata": {
        "tags": [],
        "id": "42db1713-4753-4ddb-b888-813793517fa9"
      },
      "source": [
        "### Some setup to use your data"
      ]
    },
    {
      "cell_type": "code",
      "execution_count": null,
      "id": "1fbad36a-1813-45d5-8b25-24e1a6aee2fb",
      "metadata": {
        "id": "1fbad36a-1813-45d5-8b25-24e1a6aee2fb"
      },
      "outputs": [],
      "source": [
        "document_store = # Provide Doc Store here"
      ]
    },
    {
      "cell_type": "markdown",
      "id": "f3fb19a8-6b34-4216-9a42-e04f0a3d8418",
      "metadata": {
        "id": "f3fb19a8-6b34-4216-9a42-e04f0a3d8418"
      },
      "source": [
        "### Utilizing the PromptNode "
      ]
    },
    {
      "cell_type": "code",
      "execution_count": null,
      "id": "b0bb9a32-034e-4d1c-bb94-04ce3e9aaa0e",
      "metadata": {
        "scrolled": true,
        "tags": [],
        "id": "b0bb9a32-034e-4d1c-bb94-04ce3e9aaa0e"
      },
      "outputs": [],
      "source": [
        "from haystack.nodes import PromptNode\n",
        "\n",
        "# initialize retriever\n",
        "retriever = EmbeddingRetriever(\n",
        "                document_store=document_store,\n",
        "                embedding_model='sentence-transformers/multi-qa-mpnet-base-dot-v1',\n",
        "                model_format=\"sentence_transformers\"\n",
        "            )\n",
        "\n",
        "# initialize prompt node\n",
        "prompt_node = PromptNode(model_name_or_path='text-davinci-003',\n",
        "                         api_key= 'Your_open_ai_key'\n",
        "\n"
      ]
    },
    {
      "cell_type": "code",
      "execution_count": null,
      "id": "5e5916e7-6ea8-4237-b917-d72c60f022a6",
      "metadata": {
        "id": "5e5916e7-6ea8-4237-b917-d72c60f022a6"
      },
      "outputs": [],
      "source": [
        "prompt_node.prompt_templates['question-answering'].prompt_text = 'Given the context please answer the question in a full senctence. Context: $documents; Question: $questions; Answer:'"
      ]
    },
    {
      "cell_type": "code",
      "execution_count": null,
      "id": "5424f695-a8aa-43ea-89ef-c321f27b66b1",
      "metadata": {
        "id": "5424f695-a8aa-43ea-89ef-c321f27b66b1"
      },
      "outputs": [],
      "source": [
        "query = 'Ask your question here'"
      ]
    },
    {
      "cell_type": "code",
      "execution_count": null,
      "id": "8d2c9ece-19eb-4c83-8caf-fff5c3c3879b",
      "metadata": {
        "tags": [],
        "id": "8d2c9ece-19eb-4c83-8caf-fff5c3c3879b"
      },
      "outputs": [],
      "source": [
        "# retrieve some documents relevant to query\n",
        "retrieved_docs = retriever.retrieve(query=query, top_k=5)\n",
        "assert retrieved_docs != []\n",
        "\n",
        "# prompt the prompt node to generate an answer\n",
        "# utilizing QA template here\n",
        "prompt_node_result = prompt_node.prompt(\"question-answering\",\n",
        "                                        documents=[' '.join([str(x.content) for x in retrieved_docs])],\n",
        "                                        questions=[query]\n",
        "                                        )\n",
        "\n",
        "print(query, ':', prompt_node_result[0])"
      ]
    }
  ],
  "metadata": {
    "kernelspec": {
      "display_name": "Python 3 (ipykernel)",
      "language": "python",
      "name": "python3"
    },
    "language_info": {
      "codemirror_mode": {
        "name": "ipython",
        "version": 3
      },
      "file_extension": ".py",
      "mimetype": "text/x-python",
      "name": "python",
      "nbconvert_exporter": "python",
      "pygments_lexer": "ipython3",
      "version": "3.10.8"
    },
    "colab": {
      "provenance": [],
      "include_colab_link": true
    }
  },
  "nbformat": 4,
  "nbformat_minor": 5
}