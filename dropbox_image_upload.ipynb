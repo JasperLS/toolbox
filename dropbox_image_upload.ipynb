{
 "cells": [
  {
   "cell_type": "code",
   "execution_count": null,
   "id": "unknown-marsh",
   "metadata": {},
   "outputs": [],
   "source": [
    "import os, sys, tqdm\n",
    "import pandas as pd, numpy as np, matplotlib.pyplot as plt\n",
    "from IPython.core.interactiveshell import InteractiveShell\n",
    "InteractiveShell.ast_node_interactivity = \"all\"#\"last_expr\" #all for debugging better\n",
    "pd.set_option('display.max_columns', 500,'display.max_rows',200,'display.max_colwidth',200)"
   ]
  },
  {
   "cell_type": "code",
   "execution_count": null,
   "id": "satisfactory-bradley",
   "metadata": {},
   "outputs": [],
   "source": [
    "import dropbox\n",
    "import cv2"
   ]
  },
  {
   "cell_type": "code",
   "execution_count": null,
   "id": "molecular-structure",
   "metadata": {},
   "outputs": [],
   "source": [
    "file = '' # path to csv file, MUST HAVE \"path\" column with pathes to images to be uploaded\n",
    "target = '' # target path where to save new csv with URLs\n",
    "df = pd.read_csv(file, index_col=0)\n",
    "\n",
    "access_token = '' # get access token from dropbox\n",
    "folder = '' # dropbox subfolder, can be empty string"
   ]
  },
  {
   "cell_type": "code",
   "execution_count": null,
   "id": "engaging-copying",
   "metadata": {},
   "outputs": [],
   "source": [
    "dbx = dropbox.Dropbox(access_token)"
   ]
  },
  {
   "cell_type": "code",
   "execution_count": null,
   "id": "cellular-relations",
   "metadata": {
    "tags": []
   },
   "outputs": [],
   "source": [
    "[i.name for i in dbx.files_list_folder(folder).entries] # will print list with all files which are already in your dropbox folder"
   ]
  },
  {
   "cell_type": "code",
   "execution_count": null,
   "id": "permanent-display",
   "metadata": {
    "tags": []
   },
   "outputs": [],
   "source": [
    "# These errors will occur\n",
    "for i in df.index:\n",
    "    try:\n",
    "        path = df.loc[i,'path']\n",
    "        _=open(path, \"rb\").read()\n",
    "    except:\n",
    "        print(sys.exc_info()[0],df.loc[i,'path'])"
   ]
  },
  {
   "cell_type": "code",
   "execution_count": null,
   "id": "unauthorized-phone",
   "metadata": {
    "tags": []
   },
   "outputs": [],
   "source": [
    "for i in tqdm.tqdm(df.index):\n",
    "    try:\n",
    "        path = df.loc[i,'path']\n",
    "        _ = dbx.files_upload(open(path, \"rb\").read(), '/'+path.split('/')[-1])\n",
    "        url = dbx.sharing_create_shared_link(path='/'+path.split('/')[-1]).url\n",
    "        df.loc[i,'image_url'] = url\n",
    "    #     dbx.sharing_list_shared_links('/'+i.split('/')[-1]).links[0].url\n",
    "    except:\n",
    "        print(df.loc[i,'path'],sys.exc_info()[0])\n",
    "        \n",
    "df['image_url']=df.image_url.str.replace('dl=0','raw=1')\n",
    "df.iloc[:,[0]].dropna().to_csv(target, index=False)"
   ]
  }
 ],
 "metadata": {
  "kernelspec": {
   "display_name": "Python 3",
   "language": "python",
   "name": "python3"
  },
  "language_info": {
   "codemirror_mode": {
    "name": "ipython",
    "version": 3
   },
   "file_extension": ".py",
   "mimetype": "text/x-python",
   "name": "python",
   "nbconvert_exporter": "python",
   "pygments_lexer": "ipython3",
   "version": "3.8.8"
  }
 },
 "nbformat": 4,
 "nbformat_minor": 5
}
