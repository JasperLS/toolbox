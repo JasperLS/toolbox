{
  "nbformat": 4,
  "nbformat_minor": 0,
  "metadata": {
    "colab": {
      "name": "trend_scraper_clean",
      "private_outputs": true,
      "provenance": [],
      "collapsed_sections": [],
      "toc_visible": true,
      "include_colab_link": true
    },
    "kernelspec": {
      "name": "python3",
      "display_name": "Python 3"
    }
  },
  "cells": [
    {
      "cell_type": "markdown",
      "metadata": {
        "id": "view-in-github",
        "colab_type": "text"
      },
      "source": [
        "<a href=\"https://colab.research.google.com/github/JasperLS/toolbox/blob/main/trend_scraper_clean.ipynb\" target=\"_parent\"><img src=\"https://colab.research.google.com/assets/colab-badge.svg\" alt=\"Open In Colab\"/></a>"
      ]
    },
    {
      "cell_type": "markdown",
      "metadata": {
        "id": "EHLKKdMHk-s4"
      },
      "source": [
        "# Google Trend Scraper"
      ]
    },
    {
      "cell_type": "code",
      "metadata": {
        "id": "MpiUFIIUlEiI"
      },
      "source": [
        "!pip install pytrends"
      ],
      "execution_count": null,
      "outputs": []
    },
    {
      "cell_type": "code",
      "metadata": {
        "id": "n1WaZW0jlHSF"
      },
      "source": [
        "from google.colab import drive\n",
        "drive.mount('/content/drive')"
      ],
      "execution_count": null,
      "outputs": []
    },
    {
      "cell_type": "code",
      "metadata": {
        "id": "x_L8opoFlNqh"
      },
      "source": [
        "import pandas as pd   \n",
        "import os                   \n",
        "from pytrends.request import TrendReq\n",
        "pytrend = TrendReq()"
      ],
      "execution_count": null,
      "outputs": []
    },
    {
      "cell_type": "code",
      "metadata": {
        "id": "Th71XjotlZUV"
      },
      "source": [
        "folder = '/content/drive/My Drive/TBD/' # output folder\n",
        "d = pd.read_csv('/content/drive/My Drive/TBD.csv',index_col = 0) # file with search terms\n",
        "timeframe = '2014-01-01 2018-01-01'"
      ],
      "execution_count": null,
      "outputs": []
    },
    {
      "cell_type": "code",
      "metadata": {
        "id": "mUOzLDO3Ygmg"
      },
      "source": [
        "kw_list = d.TBD.to_list() # get search terms\n",
        "correction = 0 \n",
        "start_index = int(len(os.listdir(folder)) + correction) # manual correction may be necessary"
      ],
      "execution_count": null,
      "outputs": []
    },
    {
      "cell_type": "code",
      "metadata": {
        "id": "KEwv-MwuvGpX"
      },
      "source": [
        "for j,i in enumerate(kw_list[start_index:]):\n",
        "  print(f'{j+start_index} of {len(kw_list)}')\n",
        "  try:\n",
        "    pytrend.build_payload([i], timeframe=timeframe, geo='US')\n",
        "    pytrend.interest_over_time().to_csv(f'{folder}{i}_{timeframe}.csv')\n",
        "    \n",
        "  except FileNotFoundError:\n",
        "    print(i)\n",
        "    correction+=1\n",
        "    \n",
        "  except AttributeError:\n",
        "    pass "
      ],
      "execution_count": null,
      "outputs": []
    }
  ]
}